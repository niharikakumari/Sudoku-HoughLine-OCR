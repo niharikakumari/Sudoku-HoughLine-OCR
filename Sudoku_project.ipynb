{
 "cells": [
  {
   "cell_type": "code",
   "execution_count": 3,
   "metadata": {},
   "outputs": [],
   "source": [
    "import cv2 as cv\n",
    "import pandas as pd\n",
    "import numpy as np\n",
    "import matplotlib.pyplot as plt\n",
    "from PIL import Image\n",
    "import numpy as np\n",
    "import pandas as pd\n",
    "from tensorflow import keras\n",
    "import cv2\n",
    "import matplotlib.pyplot as plt\n",
    "from PIL import Image\n",
    "import math\n",
    "import os"
   ]
  },
  {
   "cell_type": "code",
   "execution_count": 7,
   "metadata": {},
   "outputs": [
    {
     "data": {
      "text/plain": [
       "<matplotlib.image.AxesImage at 0x297bce62508>"
      ]
     },
     "execution_count": 7,
     "metadata": {},
     "output_type": "execute_result"
    },
    {
     "data": {
      "image/png": "[encoded data removed]",
      "text/plain": [
       "<Figure size 432x288 with 1 Axes>"
      ]
     },
     "metadata": {
      "needs_background": "light"
     },
     "output_type": "display_data"
    }
   ],
   "source": [
    "sudoku_img = cv.imread(\"sudoku1.png\")\n",
    "plt.imshow(sudoku_img)"
   ]
  },
  {
   "cell_type": "code",
   "execution_count": 3,
   "metadata": {},
   "outputs": [],
   "source": [
    "# #run hough line transform over the image\n",
    "# gray = cv.cvtColor(sudoku_img,cv.COLOR_BGR2GRAY)\n",
    "# ret, thresh = cv.threshold(gray,240,255,cv.THRESH_BINARY)\n",
    "# thresh = cv.bitwise_not(thresh)\n",
    "\n",
    "# accumulator_threshold = 300\n",
    "# minLineLength = 800\n",
    "# maxLineGap = 20\n",
    "# lines = cv.HoughLinesP(thresh, rho = 1, theta = np.pi/180, threshold = accumulator_threshold, \n",
    "#                             minLineLength = minLineLength, maxLineGap = maxLineGap)\n",
    "# np.seterr(divide='ignore', invalid='ignore')\n",
    "\n",
    "# color = [0,0,255]\n",
    "# new_img = sudoku_img.copy()\n",
    "# for ele in lines:\n",
    "#     new_img = cv.line(new_img,(ele[0][0],ele[0][1]),(ele[0][2],ele[0][3]),color,9)\n",
    "\n",
    "# print(len(lines))\n",
    "# plt.imshow(new_img)"
   ]
  },
  {
   "cell_type": "code",
   "execution_count": 4,
   "metadata": {},
   "outputs": [],
   "source": [
    "# #if there are lines at a gap of 30 pixels, merge them  ----- why though?\n",
    "\n",
    "# line_df = []\n",
    "# for ele in lines:\n",
    "#     line_df.append(ele[0])\n",
    "    \n",
    "# line_df = pd.DataFrame(line_df, columns = ['xmin','ymin','xmax','ymax'])\n",
    "# line_df = line_df.sort_values(by=['xmin','ymin','xmax','ymax'])\n",
    "\n",
    "# def get_orientation(index, line_df):\n",
    "#     if abs(line_df.iloc[index][0] - line_df.iloc[index][2]) < 5:\n",
    "#         return 90\n",
    "#     elif abs(line_df.iloc[index][1] - line_df.iloc[index][3]) < 5:\n",
    "#         return 0\n",
    "\n",
    "# def remove_repetitive_lines(ls_df):\n",
    "#     for index, row in ls_df.iterrows():\n",
    "#         for index1, row1 in ls_df.iterrows():\n",
    "#             if row.equals(row1)==False:\n",
    "#                 if abs(int(row['xmin'])-int(row1['xmin']))<=10 and abs(int(row['xmax'])-int(row1['xmax']))<=10: #if both lines are in same plane\n",
    "#                     if int(row1['ymin'])>(int(row['ymin'])) and int(row1['ymax'])<(int(row['ymax'])):\n",
    "#                         if index1 in ls_df.index.values:\n",
    "#                             ls_df = ls_df.drop(index1, axis=0)\n",
    "            \n",
    "#                 if abs(int(row['ymin'])-int(row1['ymin']))<=10 and abs(int(row['ymax'])-int(row1['ymax']))<=10: #if both lines are in same plane\n",
    "#                     if int(row1['xmin'])>(int(row['xmin'])) and int(row1['xmax'])<(int(row['xmax'])):\n",
    "#                         if index1 in ls_df.index.values:\n",
    "#                             ls_df = ls_df.drop(index1, axis=0)\n",
    "                        \n",
    "#     return ls_df\n",
    "\n",
    "# def merge_lines(line_df):\n",
    "#     last_index = len(line_df)\n",
    "#     for index, row in line_df.iterrows():\n",
    "#         for index1, row1 in line_df.iterrows():\n",
    "#             if get_orientation(index,line_df)==get_orientation(index1,line_df)==0:\n",
    "#                 if abs(line_df.iloc[index][2] - line_df.iloc[index1][0]) <=30 :\n",
    "#                     line_df.at[last_index] = [line_df.iloc[index][0],line_df.iloc[index][1],line_df.iloc[index1][2],line_df.iloc[index][3]]\n",
    "#                     last_index+=1\n",
    "#                     line_df = line_df.drop([index,index1],axis=0)\n",
    "#             elif get_orientation(index,line_df)==get_orientation(index1,line_df)==90:\n",
    "#                 if abs(line_df.iloc[index][3] - line_df.iloc[index1][1]) <=30 :\n",
    "#                     line_df.at[last_index] = [line_df.iloc[index][0],line_df.iloc[index][1],line_df.iloc[index][2],line_df.iloc[index1][3]]\n",
    "#                     last_index+=1\n",
    "#                     line_df = line_df.drop([index,index1],axis=0)\n",
    "#     return line_df\n",
    "\n",
    "# # line_df_mod = merge_lines(line_df)\n",
    "# line_df_mod = remove_repetitive_lines(line_df)"
   ]
  },
  {
   "cell_type": "code",
   "execution_count": 5,
   "metadata": {},
   "outputs": [],
   "source": [
    "# line_df_mod"
   ]
  },
  {
   "cell_type": "code",
   "execution_count": 6,
   "metadata": {},
   "outputs": [],
   "source": [
    "# color = [0,0,255]\n",
    "# new_img = sudoku_img.copy()\n",
    "# for index, row in line_df_mod.iterrows():\n",
    "#     new_img = cv.line(new_img,(row['xmin'],row['ymin']),(row['xmax'],row['ymax']),color,9)\n",
    "\n",
    "# # print(len(lines))\n",
    "# plt.imshow(new_img)"
   ]
  },
  {
   "cell_type": "code",
   "execution_count": 8,
   "metadata": {},
   "outputs": [],
   "source": [
    "#crop 81 images for each box and save the image\n",
    "gray = cv.cvtColor(sudoku_img,cv.COLOR_BGR2GRAY)\n",
    "w,h = gray.shape\n",
    "width = math.floor(w/9)\n",
    "height = math.floor(h/9)\n",
    "gray = gray[0:width*9,0:height*9]\n",
    "counter_x = 0\n",
    "for i in range(0,w-width,width):\n",
    "    counter_y = 0\n",
    "    for j in range(0,h-height,height):\n",
    "        crop = gray[i:i+width,j:j+height]\n",
    "        cv.imwrite(\"crop_img/crop_\"+str(counter_x)+str(counter_y)+\".png\",crop)\n",
    "        counter_y += 1\n",
    "    counter_x += 1\n",
    "        "
   ]
  },
  {
   "cell_type": "code",
   "execution_count": 18,
   "metadata": {},
   "outputs": [],
   "source": [
    "reconstructed_model =  keras.models.load_model(\"digit_recognizer_best_model.h5\")\n",
    "res_arr = np.zeros([9,9],dtype=int)\n",
    "for filename in os.listdir('crop_img'):\n",
    "    \n",
    "    test_image = Image.open('crop_img/'+filename)\n",
    "    test_image_resized = test_image.resize((28,28))\n",
    "\n",
    "    test_image_resized.save('temp/resized.png')\n",
    "    test_image_resized = cv2.imread('temp/resized.png')\n",
    "    test_image_resized_gray = cv2.cvtColor(test_image_resized,cv2.COLOR_BGR2GRAY)\n",
    "    ret, thresh = cv2.threshold(test_image_resized_gray,140,255,cv2.THRESH_BINARY)\n",
    "    nonZero = cv2.countNonZero(thresh)\n",
    "    #plt.imshow(thresh)\n",
    "    if nonZero/784 >0.9:\n",
    "        res = int(0)\n",
    "    else:\n",
    "        bitwise_thresh = cv2.bitwise_not(thresh)\n",
    "        bitwise = bitwise_thresh.reshape([-1,28, 28,1])\n",
    "        res = np.argmax(reconstructed_model.predict(bitwise)) \n",
    "    \n",
    "    index = list(filename[5:-4])\n",
    "    res_arr[int(index[0]),int(index[1])] = int(res)"
   ]
  },
  {
   "cell_type": "code",
   "execution_count": 19,
   "metadata": {},
   "outputs": [
    {
     "data": {
      "text/plain": [
       "array([[5, 3, 0, 0, 3, 0, 0, 0, 0],\n",
       "       [6, 0, 0, 8, 9, 5, 0, 0, 0],\n",
       "       [0, 9, 8, 0, 0, 0, 0, 6, 0],\n",
       "       [8, 0, 0, 0, 6, 0, 0, 0, 3],\n",
       "       [4, 0, 0, 8, 0, 3, 0, 0, 8],\n",
       "       [3, 0, 0, 0, 2, 0, 0, 0, 6],\n",
       "       [0, 6, 0, 0, 0, 0, 2, 8, 0],\n",
       "       [0, 0, 0, 4, 8, 9, 0, 0, 5],\n",
       "       [0, 0, 0, 0, 8, 0, 0, 3, 9]])"
      ]
     },
     "execution_count": 19,
     "metadata": {},
     "output_type": "execute_result"
    }
   ],
   "source": [
    "#create an array for each image as shown below\n",
    "res_arr"
   ]
  },
  {
   "cell_type": "code",
   "execution_count": 59,
   "metadata": {},
   "outputs": [],
   "source": [
    "#this array is manually created\n",
    "[[5,3,0,0,7,0,0,0,0]\n",
    " [6,0,0,1,9,5,0,0,0]\n",
    " [0,9,8,0,0,0,0,6,0]\n",
    " [8,0,0,0,6,0,0,0,3]\n",
    " [4,0,0,8,0,3,0,0,1]\n",
    " [7,0,0,0,2,0,0,0,6]\n",
    " [0,6,0,0,0,0,2,8,0]\n",
    " [0,0,0,4,1,9,0,0,5]\n",
    " [0,0,0,0,8,0,0,7,9]]"
   ]
  },
  {
   "cell_type": "code",
   "execution_count": null,
   "metadata": {},
   "outputs": [],
   "source": [
    "#solve the sudoku array"
   ]
  },
  {
   "cell_type": "code",
   "execution_count": 1,
   "metadata": {},
   "outputs": [],
   "source": [
    "# solver.py\n",
    "\n",
    "def solve(bo):\n",
    "    find = find_empty(bo)\n",
    "    if not find:\n",
    "        return True\n",
    "    else:\n",
    "        row, col = find\n",
    "\n",
    "    for i in range(1,10):\n",
    "        if valid(bo, i, (row, col)):\n",
    "            bo[row][col] = i\n",
    "\n",
    "            if solve(bo):\n",
    "                return True\n",
    "\n",
    "            bo[row][col] = 0\n",
    "\n",
    "    return False\n",
    "\n",
    "\n",
    "def valid(bo, num, pos):\n",
    "    # Check row\n",
    "    for i in range(len(bo[0])):\n",
    "        if bo[pos[0]][i] == num and pos[1] != i:\n",
    "            return False\n",
    "\n",
    "    # Check column\n",
    "    for i in range(len(bo)):\n",
    "        if bo[i][pos[1]] == num and pos[0] != i:\n",
    "            return False\n",
    "\n",
    "    # Check box\n",
    "    box_x = pos[1] // 3\n",
    "    box_y = pos[0] // 3\n",
    "\n",
    "    for i in range(box_y*3, box_y*3 + 3):\n",
    "        for j in range(box_x * 3, box_x*3 + 3):\n",
    "            if bo[i][j] == num and (i,j) != pos:\n",
    "                return False\n",
    "\n",
    "    return True\n",
    "\n",
    "\n",
    "def print_board(bo):\n",
    "    for i in range(len(bo)):\n",
    "        if i % 3 == 0 and i != 0:\n",
    "            print(\"- - - - - - - - - - - - - \")\n",
    "\n",
    "        for j in range(len(bo[0])):\n",
    "            if j % 3 == 0 and j != 0:\n",
    "                print(\" | \", end=\"\")\n",
    "\n",
    "            if j == 8:\n",
    "                print(bo[i][j])\n",
    "            else:\n",
    "                print(str(bo[i][j]) + \" \", end=\"\")\n",
    "\n",
    "\n",
    "def find_empty(bo):\n",
    "    for i in range(len(bo)):\n",
    "        for j in range(len(bo[0])):\n",
    "            if bo[i][j] == 0:\n",
    "                return (i, j)  # row, col\n",
    "\n",
    "    return None"
   ]
  },
  {
   "cell_type": "code",
   "execution_count": 20,
   "metadata": {},
   "outputs": [
    {
     "name": "stdout",
     "output_type": "stream",
     "text": [
      "5 3 0  | 0 3 0  | 0 0 0\n",
      "6 0 0  | 8 9 5  | 0 0 0\n",
      "0 9 8  | 0 0 0  | 0 6 0\n",
      "- - - - - - - - - - - - - \n",
      "8 0 0  | 0 6 0  | 0 0 3\n",
      "4 0 0  | 8 0 3  | 0 0 8\n",
      "3 0 0  | 0 2 0  | 0 0 6\n",
      "- - - - - - - - - - - - - \n",
      "0 6 0  | 0 0 0  | 2 8 0\n",
      "0 0 0  | 4 8 9  | 0 0 5\n",
      "0 0 0  | 0 8 0  | 0 3 9\n",
      "**********************************\n",
      "**********************************\n",
      "5 3 0  | 0 3 0  | 0 0 0\n",
      "6 0 0  | 8 9 5  | 0 0 0\n",
      "0 9 8  | 0 0 0  | 0 6 0\n",
      "- - - - - - - - - - - - - \n",
      "8 0 0  | 0 6 0  | 0 0 3\n",
      "4 0 0  | 8 0 3  | 0 0 8\n",
      "3 0 0  | 0 2 0  | 0 0 6\n",
      "- - - - - - - - - - - - - \n",
      "0 6 0  | 0 0 0  | 2 8 0\n",
      "0 0 0  | 4 8 9  | 0 0 5\n",
      "0 0 0  | 0 8 0  | 0 3 9\n"
     ]
    }
   ],
   "source": [
    "bo = [[5,3,0,0,7,0,0,0,0],\n",
    " [6,0,0,1,9,5,0,0,0],\n",
    " [0,9,8,0,0,0,0,6,0],\n",
    " [8,0,0,0,6,0,0,0,3],\n",
    " [4,0,0,8,0,3,0,0,1],\n",
    " [7,0,0,0,2,0,0,0,6],\n",
    " [0,6,0,0,0,0,2,8,0],\n",
    " [0,0,0,4,1,9,0,0,5],\n",
    " [0,0,0,0,8,0,0,7,9]]\n",
    "\n",
    "print_board(res_arr)\n",
    "print(\"**********************************\\n**********************************\")\n",
    "solve(res_arr)\n",
    "print_board(res_arr)"
   ]
  },
  {
   "cell_type": "code",
   "execution_count": 25,
   "metadata": {},
   "outputs": [
    {
     "name": "stdout",
     "output_type": "stream",
     "text": [
      "NO\n"
     ]
    }
   ],
   "source": [
    "# to check whether  \n",
    "# given sudoku board is valid or not  \n",
    "  \n",
    "# Checks whether there is any  \n",
    "# duplicate in current row or not  \n",
    "def notInRow(arr, row):  \n",
    "  \n",
    "    # Set to store characters seen so far.  \n",
    "    st = set()  \n",
    "  \n",
    "    for i in range(0, 9):  \n",
    "  \n",
    "        # If already encountered before,  \n",
    "        # return false  \n",
    "        if arr[row][i] in st:  \n",
    "            return False\n",
    "  \n",
    "        # If it is not an empty cell, insert value  \n",
    "        # at the current cell in the set  \n",
    "        if arr[row][i] != 0:  \n",
    "            st.add(arr[row][i])  \n",
    "      \n",
    "    return True\n",
    "  \n",
    "# Checks whether there is any  \n",
    "# duplicate in current column or not.  \n",
    "def notInCol(arr, col):  \n",
    "  \n",
    "    st = set()  \n",
    "  \n",
    "    for i in range(0, 9):  \n",
    "  \n",
    "        # If already encountered before, \n",
    "        # return false  \n",
    "        if arr[i][col] in st: \n",
    "            return False\n",
    "  \n",
    "        # If it is not an empty cell, insert  \n",
    "        # value at the current cell in the set  \n",
    "        if arr[i][col] != 0:  \n",
    "            st.add(arr[i][col])  \n",
    "      \n",
    "    return True\n",
    "  \n",
    "# Checks whether there is any duplicate  \n",
    "# in current 3x3 box or not.  \n",
    "def notInBox(arr, startRow, startCol):  \n",
    "  \n",
    "    st = set()  \n",
    "  \n",
    "    for row in range(0, 3):  \n",
    "        for col in range(0, 3):  \n",
    "            curr = arr[row + startRow][col + startCol]  \n",
    "  \n",
    "            # If already encountered before,  \n",
    "            # return false  \n",
    "            if curr in st:  \n",
    "                return False\n",
    "  \n",
    "            # If it is not an empty cell,  \n",
    "            # insert value at current cell in set  \n",
    "            if curr != 0:  \n",
    "                st.add(curr)  \n",
    "          \n",
    "    return True\n",
    "  \n",
    "# Checks whether current row and current  \n",
    "# column and current 3x3 box is valid or not  \n",
    "def isValid(arr, row, col):  \n",
    "  \n",
    "    return (notInRow(arr, row) and notInCol(arr, col) and\n",
    "            notInBox(arr, row - row % 3, col - col % 3))  \n",
    "  \n",
    "def isValidConfig(arr, n):  \n",
    "  \n",
    "    for i in range(0, n):  \n",
    "        for j in range(0, n):  \n",
    "  \n",
    "            # If current row or current column or  \n",
    "            # current 3x3 box is not valid, return false  \n",
    "            if not isValid(arr, i, j):  \n",
    "                return False\n",
    "          \n",
    "    return True\n",
    "  \n",
    "        \n",
    "if isValidConfig(res_arr, 9):  \n",
    "    print(\"YES\") \n",
    "else: \n",
    "    print(\"NO\") "
   ]
  },
  {
   "cell_type": "code",
   "execution_count": 23,
   "metadata": {},
   "outputs": [
    {
     "data": {
      "text/plain": [
       "[[5, 3, 0, 0, 7, 0, 0, 0, 0],\n",
       " [6, 0, 0, 1, 9, 5, 0, 0, 0],\n",
       " [0, 9, 8, 0, 0, 0, 0, 6, 0],\n",
       " [8, 0, 0, 0, 6, 0, 0, 0, 3],\n",
       " [4, 0, 0, 8, 0, 3, 0, 0, 1],\n",
       " [7, 0, 0, 0, 2, 0, 0, 0, 6],\n",
       " [0, 6, 0, 0, 0, 0, 2, 8, 0],\n",
       " [0, 0, 0, 4, 1, 9, 0, 0, 5],\n",
       " [0, 0, 0, 0, 8, 0, 0, 7, 9]]"
      ]
     },
     "execution_count": 23,
     "metadata": {},
     "output_type": "execute_result"
    }
   ],
   "source": [
    "bo"
   ]
  },
  {
   "cell_type": "code",
   "execution_count": null,
   "metadata": {},
   "outputs": [],
   "source": []
  }
 ],
 "metadata": {
  "kernelspec": {
   "display_name": "Python 3",
   "language": "python",
   "name": "python3"
  },
  "language_info": {
   "codemirror_mode": {
    "name": "ipython",
    "version": 3
   },
   "file_extension": ".py",
   "mimetype": "text/x-python",
   "name": "python",
   "nbconvert_exporter": "python",
   "pygments_lexer": "ipython3",
   "version": "3.7.4"
  }
 },
 "nbformat": 4,
 "nbformat_minor": 2
}
