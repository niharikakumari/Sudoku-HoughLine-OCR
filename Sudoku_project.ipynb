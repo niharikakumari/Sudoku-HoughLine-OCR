{
 "cells": [
  {
   "cell_type": "code",
   "execution_count": 1,
   "metadata": {},
   "outputs": [],
   "source": [
    "import cv2 as cv\n",
    "import pandas as pd\n",
    "import numpy as np\n",
    "import matplotlib.pyplot as plt\n",
    "from PIL import Image"
   ]
  },
  {
   "cell_type": "code",
   "execution_count": 2,
   "metadata": {},
   "outputs": [
    {
     "data": {
      "text/plain": [
       "<matplotlib.image.AxesImage at 0x241662bbf48>"
      ]
     },
     "execution_count": 2,
     "metadata": {},
     "output_type": "execute_result"
    },
    {
     "data": {
      "image/png": "[encoded data removed]",
      "text/plain": [
       "<Figure size 432x288 with 1 Axes>"
      ]
     },
     "metadata": {
      "needs_background": "light"
     },
     "output_type": "display_data"
    }
   ],
   "source": [
    "sudoku_img = cv.imread(\"sudoku1.png\")\n",
    "plt.imshow(sudoku_img)"
   ]
  },
  {
   "cell_type": "code",
   "execution_count": 3,
   "metadata": {},
   "outputs": [
    {
     "name": "stdout",
     "output_type": "stream",
     "text": [
      "109\n"
     ]
    },
    {
     "data": {
      "text/plain": [
       "<matplotlib.image.AxesImage at 0x24166385148>"
      ]
     },
     "execution_count": 3,
     "metadata": {},
     "output_type": "execute_result"
    },
    {
     "data": {
      "image/png": "[encoded data removed]",
      "text/plain": [
       "<Figure size 432x288 with 1 Axes>"
      ]
     },
     "metadata": {
      "needs_background": "light"
     },
     "output_type": "display_data"
    }
   ],
   "source": [
    "#run hough line transform over the image\n",
    "gray = cv.cvtColor(sudoku_img,cv.COLOR_BGR2GRAY)\n",
    "ret, thresh = cv.threshold(gray,240,255,cv.THRESH_BINARY)\n",
    "thresh = cv.bitwise_not(thresh)\n",
    "\n",
    "accumulator_threshold = 300\n",
    "minLineLength = 800\n",
    "maxLineGap = 20\n",
    "lines = cv.HoughLinesP(thresh, rho = 1, theta = np.pi/180, threshold = accumulator_threshold, \n",
    "                            minLineLength = minLineLength, maxLineGap = maxLineGap)\n",
    "np.seterr(divide='ignore', invalid='ignore')\n",
    "\n",
    "color = [0,0,255]\n",
    "new_img = sudoku_img.copy()\n",
    "for ele in lines:\n",
    "    new_img = cv.line(new_img,(ele[0][0],ele[0][1]),(ele[0][2],ele[0][3]),color,9)\n",
    "\n",
    "print(len(lines))\n",
    "plt.imshow(new_img)"
   ]
  },
  {
   "cell_type": "code",
   "execution_count": 12,
   "metadata": {},
   "outputs": [],
   "source": [
    "# #if there are lines at a gap of 30 pixels, merge them  ----- why though?\n",
    "\n",
    "# line_df = []\n",
    "# for ele in lines:\n",
    "#     line_df.append(ele[0])\n",
    "    \n",
    "# line_df = pd.DataFrame(line_df, columns = ['xmin','ymin','xmax','ymax'])\n",
    "# line_df = line_df.sort_values(by=['xmin','ymin','xmax','ymax'])\n",
    "\n",
    "# def get_orientation(index, line_df):\n",
    "#     if abs(line_df.iloc[index][0] - line_df.iloc[index][2]) < 5:\n",
    "#         return 90\n",
    "#     elif abs(line_df.iloc[index][1] - line_df.iloc[index][3]) < 5:\n",
    "#         return 0\n",
    "\n",
    "# def remove_repetitive_lines(ls_df):\n",
    "#     for index, row in ls_df.iterrows():\n",
    "#         for index1, row1 in ls_df.iterrows():\n",
    "#             if row.equals(row1)==False:\n",
    "#                 if abs(int(row['xmin'])-int(row1['xmin']))<=10 and abs(int(row['xmax'])-int(row1['xmax']))<=10: #if both lines are in same plane\n",
    "#                     if int(row1['ymin'])>(int(row['ymin'])) and int(row1['ymax'])<(int(row['ymax'])):\n",
    "#                         if index1 in ls_df.index.values:\n",
    "#                             ls_df = ls_df.drop(index1, axis=0)\n",
    "            \n",
    "#                 if abs(int(row['ymin'])-int(row1['ymin']))<=10 and abs(int(row['ymax'])-int(row1['ymax']))<=10: #if both lines are in same plane\n",
    "#                     if int(row1['xmin'])>(int(row['xmin'])) and int(row1['xmax'])<(int(row['xmax'])):\n",
    "#                         if index1 in ls_df.index.values:\n",
    "#                             ls_df = ls_df.drop(index1, axis=0)\n",
    "                        \n",
    "#     return ls_df\n",
    "\n",
    "# def merge_lines(line_df):\n",
    "#     last_index = len(line_df)\n",
    "#     for index, row in line_df.iterrows():\n",
    "#         for index1, row1 in line_df.iterrows():\n",
    "#             if get_orientation(index,line_df)==get_orientation(index1,line_df)==0:\n",
    "#                 if abs(line_df.iloc[index][2] - line_df.iloc[index1][0]) <=30 :\n",
    "#                     line_df.at[last_index] = [line_df.iloc[index][0],line_df.iloc[index][1],line_df.iloc[index1][2],line_df.iloc[index][3]]\n",
    "#                     last_index+=1\n",
    "#                     line_df = line_df.drop([index,index1],axis=0)\n",
    "#             elif get_orientation(index,line_df)==get_orientation(index1,line_df)==90:\n",
    "#                 if abs(line_df.iloc[index][3] - line_df.iloc[index1][1]) <=30 :\n",
    "#                     line_df.at[last_index] = [line_df.iloc[index][0],line_df.iloc[index][1],line_df.iloc[index][2],line_df.iloc[index1][3]]\n",
    "#                     last_index+=1\n",
    "#                     line_df = line_df.drop([index,index1],axis=0)\n",
    "#     return line_df\n",
    "\n",
    "# # line_df_mod = merge_lines(line_df)\n",
    "# line_df_mod = remove_repetitive_lines(line_df)"
   ]
  },
  {
   "cell_type": "code",
   "execution_count": 13,
   "metadata": {},
   "outputs": [
    {
     "data": {
      "text/html": [
       "<div>\n",
       "<style scoped>\n",
       "    .dataframe tbody tr th:only-of-type {\n",
       "        vertical-align: middle;\n",
       "    }\n",
       "\n",
       "    .dataframe tbody tr th {\n",
       "        vertical-align: top;\n",
       "    }\n",
       "\n",
       "    .dataframe thead th {\n",
       "        text-align: right;\n",
       "    }\n",
       "</style>\n",
       "<table border=\"1\" class=\"dataframe\">\n",
       "  <thead>\n",
       "    <tr style=\"text-align: right;\">\n",
       "      <th></th>\n",
       "      <th>xmin</th>\n",
       "      <th>ymin</th>\n",
       "      <th>xmax</th>\n",
       "      <th>ymax</th>\n",
       "    </tr>\n",
       "  </thead>\n",
       "  <tbody>\n",
       "    <tr>\n",
       "      <td>1</td>\n",
       "      <td>0</td>\n",
       "      <td>2</td>\n",
       "      <td>1199</td>\n",
       "      <td>2</td>\n",
       "    </tr>\n",
       "    <tr>\n",
       "      <td>26</td>\n",
       "      <td>0</td>\n",
       "      <td>133</td>\n",
       "      <td>1199</td>\n",
       "      <td>133</td>\n",
       "    </tr>\n",
       "    <tr>\n",
       "      <td>7</td>\n",
       "      <td>0</td>\n",
       "      <td>267</td>\n",
       "      <td>1199</td>\n",
       "      <td>267</td>\n",
       "    </tr>\n",
       "    <tr>\n",
       "      <td>2</td>\n",
       "      <td>0</td>\n",
       "      <td>797</td>\n",
       "      <td>1199</td>\n",
       "      <td>797</td>\n",
       "    </tr>\n",
       "    <tr>\n",
       "      <td>51</td>\n",
       "      <td>0</td>\n",
       "      <td>1199</td>\n",
       "      <td>0</td>\n",
       "      <td>0</td>\n",
       "    </tr>\n",
       "    <tr>\n",
       "      <td>...</td>\n",
       "      <td>...</td>\n",
       "      <td>...</td>\n",
       "      <td>...</td>\n",
       "      <td>...</td>\n",
       "    </tr>\n",
       "    <tr>\n",
       "      <td>45</td>\n",
       "      <td>1067</td>\n",
       "      <td>1199</td>\n",
       "      <td>1067</td>\n",
       "      <td>0</td>\n",
       "    </tr>\n",
       "    <tr>\n",
       "      <td>24</td>\n",
       "      <td>1196</td>\n",
       "      <td>1199</td>\n",
       "      <td>1196</td>\n",
       "      <td>0</td>\n",
       "    </tr>\n",
       "    <tr>\n",
       "      <td>42</td>\n",
       "      <td>1197</td>\n",
       "      <td>1199</td>\n",
       "      <td>1197</td>\n",
       "      <td>0</td>\n",
       "    </tr>\n",
       "    <tr>\n",
       "      <td>12</td>\n",
       "      <td>1198</td>\n",
       "      <td>1199</td>\n",
       "      <td>1198</td>\n",
       "      <td>0</td>\n",
       "    </tr>\n",
       "    <tr>\n",
       "      <td>33</td>\n",
       "      <td>1199</td>\n",
       "      <td>1199</td>\n",
       "      <td>1199</td>\n",
       "      <td>0</td>\n",
       "    </tr>\n",
       "  </tbody>\n",
       "</table>\n",
       "<p>90 rows × 4 columns</p>\n",
       "</div>"
      ],
      "text/plain": [
       "    xmin  ymin  xmax  ymax\n",
       "1      0     2  1199     2\n",
       "26     0   133  1199   133\n",
       "7      0   267  1199   267\n",
       "2      0   797  1199   797\n",
       "51     0  1199     0     0\n",
       "..   ...   ...   ...   ...\n",
       "45  1067  1199  1067     0\n",
       "24  1196  1199  1196     0\n",
       "42  1197  1199  1197     0\n",
       "12  1198  1199  1198     0\n",
       "33  1199  1199  1199     0\n",
       "\n",
       "[90 rows x 4 columns]"
      ]
     },
     "execution_count": 13,
     "metadata": {},
     "output_type": "execute_result"
    }
   ],
   "source": [
    "# line_df_mod"
   ]
  },
  {
   "cell_type": "code",
   "execution_count": 14,
   "metadata": {},
   "outputs": [
    {
     "data": {
      "text/plain": [
       "<matplotlib.image.AxesImage at 0x24166563748>"
      ]
     },
     "execution_count": 14,
     "metadata": {},
     "output_type": "execute_result"
    },
    {
     "data": {
      "image/png": "[encoded data removed]",
      "text/plain": [
       "<Figure size 432x288 with 1 Axes>"
      ]
     },
     "metadata": {
      "needs_background": "light"
     },
     "output_type": "display_data"
    }
   ],
   "source": [
    "# color = [0,0,255]\n",
    "# new_img = sudoku_img.copy()\n",
    "# for index, row in line_df_mod.iterrows():\n",
    "#     new_img = cv.line(new_img,(row['xmin'],row['ymin']),(row['xmax'],row['ymax']),color,9)\n",
    "\n",
    "# # print(len(lines))\n",
    "# plt.imshow(new_img)"
   ]
  },
  {
   "cell_type": "code",
   "execution_count": 57,
   "metadata": {},
   "outputs": [],
   "source": [
    "#crop 81 images for each box and save the image\n",
    "gray = cv.cvtColor(sudoku_img,cv.COLOR_BGR2GRAY)\n",
    "w,h = gray.shape\n",
    "width = math.floor(w/9)\n",
    "height = math.floor(h/9)\n",
    "gray = gray[0:width*9,0:height*9]\n",
    "counter = 1\n",
    "for i in range(0,w-width,width):\n",
    "    for j in range(0,h-height,height):\n",
    "        crop = gray[i:i+width,j:j+height]\n",
    "        cv.imwrite(\"crop_img/crop_\"+str(counter)+\".png\",crop)\n",
    "        counter+=1\n",
    "        "
   ]
  },
  {
   "cell_type": "code",
   "execution_count": 58,
   "metadata": {},
   "outputs": [],
   "source": [
    "#run digit recognition model for each of the image"
   ]
  },
  {
   "cell_type": "code",
   "execution_count": 59,
   "metadata": {},
   "outputs": [],
   "source": [
    "#create an array for each image"
   ]
  },
  {
   "cell_type": "code",
   "execution_count": null,
   "metadata": {},
   "outputs": [],
   "source": [
    "#solve the sudoku array"
   ]
  }
 ],
 "metadata": {
  "kernelspec": {
   "display_name": "Python 3",
   "language": "python",
   "name": "python3"
  },
  "language_info": {
   "codemirror_mode": {
    "name": "ipython",
    "version": 3
   },
   "file_extension": ".py",
   "mimetype": "text/x-python",
   "name": "python",
   "nbconvert_exporter": "python",
   "pygments_lexer": "ipython3",
   "version": "3.7.4"
  }
 },
 "nbformat": 4,
 "nbformat_minor": 2
}
