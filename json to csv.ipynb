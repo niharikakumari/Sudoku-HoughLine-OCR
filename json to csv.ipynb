{
 "cells": [
  {
   "cell_type": "markdown",
   "metadata": {},
   "source": [
    "#### Function to convert JSON files created using VIA tool, into csv files, to be converted into tfrecords and fed into OD API"
   ]
  },
  {
   "cell_type": "code",
   "execution_count": 1,
   "metadata": {},
   "outputs": [
    {
     "name": "stderr",
     "output_type": "stream",
     "text": [
      "C:\\Users\\niharika.a.kumari\\AppData\\Local\\Continuum\\anaconda3\\envs\\tensorflow\\lib\\site-packages\\numpy\\_distributor_init.py:32: UserWarning: loaded more than 1 DLL from .libs:\n",
      "C:\\Users\\niharika.a.kumari\\AppData\\Local\\Continuum\\anaconda3\\envs\\tensorflow\\lib\\site-packages\\numpy\\.libs\\libopenblas.NOIJJG62EMASZI6NYURL6JBKM4EVBGM7.gfortran-win_amd64.dll\n",
      "C:\\Users\\niharika.a.kumari\\AppData\\Local\\Continuum\\anaconda3\\envs\\tensorflow\\lib\\site-packages\\numpy\\.libs\\libopenblas.PYQHXLVVQ7VESDPUVUADXEVJOBGHJPAY.gfortran-win_amd64.dll\n",
      "  stacklevel=1)\n"
     ]
    }
   ],
   "source": [
    "import json\n",
    "import pandas as pd\n",
    "import numpy as np\n",
    "import cv2\n",
    "from PIL import Image"
   ]
  },
  {
   "cell_type": "code",
   "execution_count": 2,
   "metadata": {},
   "outputs": [],
   "source": [
    "with open(\"sudoku_annot_2.json\", \"r\") as read_file:\n",
    "    data = json.load(read_file)"
   ]
  },
  {
   "cell_type": "code",
   "execution_count": 11,
   "metadata": {},
   "outputs": [],
   "source": [
    "# data"
   ]
  },
  {
   "cell_type": "code",
   "execution_count": 10,
   "metadata": {},
   "outputs": [
    {
     "data": {
      "text/html": [
       "<div>\n",
       "<style scoped>\n",
       "    .dataframe tbody tr th:only-of-type {\n",
       "        vertical-align: middle;\n",
       "    }\n",
       "\n",
       "    .dataframe tbody tr th {\n",
       "        vertical-align: top;\n",
       "    }\n",
       "\n",
       "    .dataframe thead th {\n",
       "        text-align: right;\n",
       "    }\n",
       "</style>\n",
       "<table border=\"1\" class=\"dataframe\">\n",
       "  <thead>\n",
       "    <tr style=\"text-align: right;\">\n",
       "      <th></th>\n",
       "      <th>filename</th>\n",
       "      <th>width</th>\n",
       "      <th>height</th>\n",
       "      <th>class</th>\n",
       "      <th>xmin</th>\n",
       "      <th>ymin</th>\n",
       "      <th>xmax</th>\n",
       "      <th>ymax</th>\n",
       "    </tr>\n",
       "  </thead>\n",
       "  <tbody>\n",
       "    <tr>\n",
       "      <th>0</th>\n",
       "      <td>Screenshot_2021-01-07-23-19-00-858_com.easybra...</td>\n",
       "      <td>2280</td>\n",
       "      <td>1080</td>\n",
       "      <td>Sudoku</td>\n",
       "      <td>8</td>\n",
       "      <td>306</td>\n",
       "      <td>1059</td>\n",
       "      <td>1369</td>\n",
       "    </tr>\n",
       "    <tr>\n",
       "      <th>1</th>\n",
       "      <td>Screenshot_2021-01-07-23-19-21-187_com.easybra...</td>\n",
       "      <td>2280</td>\n",
       "      <td>1080</td>\n",
       "      <td>Sudoku</td>\n",
       "      <td>5</td>\n",
       "      <td>299</td>\n",
       "      <td>1062</td>\n",
       "      <td>1365</td>\n",
       "    </tr>\n",
       "    <tr>\n",
       "      <th>2</th>\n",
       "      <td>Screenshot_2021-01-07-23-19-37-128_com.easybra...</td>\n",
       "      <td>2280</td>\n",
       "      <td>1080</td>\n",
       "      <td>Sudoku</td>\n",
       "      <td>19</td>\n",
       "      <td>323</td>\n",
       "      <td>1066</td>\n",
       "      <td>1366</td>\n",
       "    </tr>\n",
       "    <tr>\n",
       "      <th>3</th>\n",
       "      <td>Screenshot_2021-01-07-23-19-52-081_com.easybra...</td>\n",
       "      <td>2280</td>\n",
       "      <td>1080</td>\n",
       "      <td>Sudoku</td>\n",
       "      <td>13</td>\n",
       "      <td>306</td>\n",
       "      <td>1076</td>\n",
       "      <td>1373</td>\n",
       "    </tr>\n",
       "    <tr>\n",
       "      <th>4</th>\n",
       "      <td>Screenshot_2021-01-07-23-20-03-976_com.easybra...</td>\n",
       "      <td>2280</td>\n",
       "      <td>1080</td>\n",
       "      <td>Sudoku</td>\n",
       "      <td>17</td>\n",
       "      <td>310</td>\n",
       "      <td>1068</td>\n",
       "      <td>1369</td>\n",
       "    </tr>\n",
       "  </tbody>\n",
       "</table>\n",
       "</div>"
      ],
      "text/plain": [
       "                                            filename  width  height   class  \\\n",
       "0  Screenshot_2021-01-07-23-19-00-858_com.easybra...   2280    1080  Sudoku   \n",
       "1  Screenshot_2021-01-07-23-19-21-187_com.easybra...   2280    1080  Sudoku   \n",
       "2  Screenshot_2021-01-07-23-19-37-128_com.easybra...   2280    1080  Sudoku   \n",
       "3  Screenshot_2021-01-07-23-19-52-081_com.easybra...   2280    1080  Sudoku   \n",
       "4  Screenshot_2021-01-07-23-20-03-976_com.easybra...   2280    1080  Sudoku   \n",
       "\n",
       "   xmin  ymin  xmax  ymax  \n",
       "0     8   306  1059  1369  \n",
       "1     5   299  1062  1365  \n",
       "2    19   323  1066  1366  \n",
       "3    13   306  1076  1373  \n",
       "4    17   310  1068  1369  "
      ]
     },
     "execution_count": 10,
     "metadata": {},
     "output_type": "execute_result"
    }
   ],
   "source": [
    "path = \"sudoku_imgs/\"\n",
    "keys_list = list(data['_via_img_metadata'].keys())\n",
    "labels_df['image_name'] = keys_list\n",
    "json_list = []\n",
    "for key in keys_list:\n",
    "    i= keys_list.index(key)\n",
    "    val = data['_via_img_metadata'][key]['regions'][0]['shape_attributes']\n",
    "    key = key[:-6]\n",
    "    temp_image = cv2.imread(path + str(key))\n",
    "    value = (key,temp_image.shape[0],temp_image.shape[1],'Sudoku',val['x'],val['y'], val['x'] + val['width'], val['y'] + val['height'])\n",
    "    json_list.append(value)\n",
    "    \n",
    "column_name = ['filename', 'width', 'height', 'class', 'xmin', 'ymin', 'xmax', 'ymax']\n",
    "json_df = pd.DataFrame(json_list, columns=column_name)\n",
    "\n",
    "json_df.head()"
   ]
  },
  {
   "cell_type": "code",
   "execution_count": null,
   "metadata": {},
   "outputs": [],
   "source": [
    "json_df.to_csv('raccoon_labels.csv', index=None)"
   ]
  }
 ],
 "metadata": {
  "kernelspec": {
   "display_name": "Python 3",
   "language": "python",
   "name": "python3"
  },
  "language_info": {
   "codemirror_mode": {
    "name": "ipython",
    "version": 3
   },
   "file_extension": ".py",
   "mimetype": "text/x-python",
   "name": "python",
   "nbconvert_exporter": "python",
   "pygments_lexer": "ipython3",
   "version": "3.7.9"
  }
 },
 "nbformat": 4,
 "nbformat_minor": 4
}
