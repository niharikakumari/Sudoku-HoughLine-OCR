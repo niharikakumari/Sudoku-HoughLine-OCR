{
 "cells": [
  {
   "cell_type": "code",
   "execution_count": 1,
   "metadata": {},
   "outputs": [],
   "source": [
    "import numpy as np\n",
    "import pandas as pd\n",
    "import tensorflow as tf\n",
    "from tensorflow import keras\n",
    "import cv2\n",
    "import matplotlib.pyplot as plt\n",
    "from PIL import Image"
   ]
  },
  {
   "cell_type": "code",
   "execution_count": 3,
   "metadata": {},
   "outputs": [],
   "source": [
    "reconstructed_model =  keras.models.load_model(\"digit_recognizer_best_model.h5\")\n",
    "test_image = Image.open('crop_img/crop_75.png')\n",
    "test_image_resized = test_image.resize((28,28))\n",
    "\n",
    "test_image_resized.save('crop_img/crop_1_resized.png')\n",
    "test_image_resized_2 = cv2.imread('crop_img/crop_1_resized.png')\n",
    "test_image_resized_gray = cv2.cvtColor(test_image_resized_2,cv2.COLOR_BGR2GRAY)\n",
    "ret, thresh = cv2.threshold(test_image_resized_gray,140,255,cv2.THRESH_BINARY)\n",
    "nonZero = cv2.countNonZero(thresh)\n",
    "plt.imshow(thresh)\n",
    "if nonZero/784 >0.9:\n",
    "    print('blank')\n",
    "else:\n",
    "    bitwise_thresh = cv2.bitwise_not(thresh)\n",
    "    np_img_3 = bitwise_thresh.reshape([-1,28, 28,1])\n",
    "    res = reconstructed_model.predict(np_img_3)\n",
    "    print(res)"
   ]
  },
  {
   "cell_type": "code",
   "execution_count": null,
   "metadata": {},
   "outputs": [],
   "source": []
  }
 ],
 "metadata": {
  "kernelspec": {
   "display_name": "Python 3",
   "language": "python",
   "name": "python3"
  },
  "language_info": {
   "codemirror_mode": {
    "name": "ipython",
    "version": 3
   },
   "file_extension": ".py",
   "mimetype": "text/x-python",
   "name": "python",
   "nbconvert_exporter": "python",
   "pygments_lexer": "ipython3",
   "version": "3.7.4"
  }
 },
 "nbformat": 4,
 "nbformat_minor": 2
}
