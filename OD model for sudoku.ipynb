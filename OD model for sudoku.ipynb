{
 "cells": [
  {
   "cell_type": "code",
   "execution_count": 1,
   "metadata": {},
   "outputs": [],
   "source": [
    "import json\n",
    "import pandas as pd\n",
    "import numpy as np\n",
    "import cv2\n",
    "from PIL import Image"
   ]
  },
  {
   "cell_type": "code",
   "execution_count": 22,
   "metadata": {},
   "outputs": [],
   "source": [
    "with open(\"sudoku_annot_2.json\", \"r\") as read_file:\n",
    "   data = json.load(read_file)"
   ]
  },
  {
   "cell_type": "code",
   "execution_count": 52,
   "metadata": {},
   "outputs": [
    {
     "name": "stdout",
     "output_type": "stream",
     "text": [
      "{'name': 'rect', 'x': 8, 'y': 306, 'width': 1051, 'height': 1063}\n",
      "{'name': 'rect', 'x': 5, 'y': 299, 'width': 1057, 'height': 1066}\n",
      "{'name': 'rect', 'x': 19, 'y': 323, 'width': 1047, 'height': 1043}\n",
      "{'name': 'rect', 'x': 13, 'y': 306, 'width': 1063, 'height': 1067}\n",
      "{'name': 'rect', 'x': 17, 'y': 310, 'width': 1051, 'height': 1059}\n",
      "{'name': 'rect', 'x': 21, 'y': 306, 'width': 1047, 'height': 1055}\n",
      "{'name': 'rect', 'x': 25, 'y': 301, 'width': 1051, 'height': 1067}\n",
      "{'name': 'rect', 'x': 17, 'y': 306, 'width': 1051, 'height': 1063}\n",
      "{'name': 'rect', 'x': 13, 'y': 306, 'width': 1059, 'height': 1063}\n",
      "{'name': 'rect', 'x': 8, 'y': 306, 'width': 1059, 'height': 1072}\n",
      "{'name': 'rect', 'x': 8, 'y': 310, 'width': 1059, 'height': 1063}\n",
      "{'name': 'rect', 'x': 8, 'y': 306, 'width': 1067, 'height': 1059}\n",
      "{'name': 'rect', 'x': 17, 'y': 310, 'width': 1042, 'height': 1059}\n",
      "{'name': 'rect', 'x': 13, 'y': 306, 'width': 1051, 'height': 1059}\n",
      "{'name': 'rect', 'x': 13, 'y': 297, 'width': 1063, 'height': 1072}\n",
      "{'name': 'rect', 'x': 13, 'y': 306, 'width': 1063, 'height': 1063}\n",
      "{'name': 'rect', 'x': 4, 'y': 306, 'width': 1063, 'height': 1067}\n",
      "{'name': 'rect', 'x': 13, 'y': 306, 'width': 1055, 'height': 1063}\n",
      "{'name': 'rect', 'x': 13, 'y': 314, 'width': 1051, 'height': 1047}\n",
      "{'name': 'rect', 'x': 13, 'y': 301, 'width': 1059, 'height': 1059}\n",
      "{'name': 'rect', 'x': 21, 'y': 306, 'width': 1051, 'height': 1059}\n",
      "{'name': 'rect', 'x': 17, 'y': 306, 'width': 1047, 'height': 1055}\n",
      "{'name': 'rect', 'x': 17, 'y': 301, 'width': 1059, 'height': 1059}\n",
      "{'name': 'rect', 'x': 4, 'y': 306, 'width': 1063, 'height': 1063}\n",
      "{'name': 'rect', 'x': 13, 'y': 301, 'width': 1051, 'height': 1076}\n",
      "{'name': 'rect', 'x': 8, 'y': 301, 'width': 1059, 'height': 1059}\n",
      "{'name': 'rect', 'x': 13, 'y': 301, 'width': 1063, 'height': 1059}\n",
      "{'name': 'rect', 'x': 8, 'y': 306, 'width': 1063, 'height': 1059}\n",
      "{'name': 'rect', 'x': 21, 'y': 306, 'width': 1042, 'height': 1063}\n",
      "{'name': 'rect', 'x': 4, 'y': 297, 'width': 1067, 'height': 1067}\n",
      "{'name': 'rect', 'x': 29, 'y': 473, 'width': 1026, 'height': 1026}\n",
      "{'name': 'rect', 'x': 29, 'y': 486, 'width': 1017, 'height': 1009}\n",
      "{'name': 'rect', 'x': 38, 'y': 473, 'width': 1017, 'height': 1030}\n",
      "{'name': 'rect', 'x': 21, 'y': 473, 'width': 1030, 'height': 1034}\n",
      "{'name': 'rect', 'x': 29, 'y': 473, 'width': 1017, 'height': 1021}\n",
      "{'name': 'rect', 'x': 25, 'y': 477, 'width': 1021, 'height': 1017}\n",
      "{'name': 'rect', 'x': 29, 'y': 473, 'width': 1021, 'height': 1021}\n",
      "{'name': 'rect', 'x': 21, 'y': 477, 'width': 1026, 'height': 1026}\n",
      "{'name': 'rect', 'x': 25, 'y': 465, 'width': 1030, 'height': 1038}\n",
      "{'name': 'rect', 'x': 21, 'y': 481, 'width': 1034, 'height': 1017}\n",
      "{'name': 'rect', 'x': 33, 'y': 473, 'width': 1013, 'height': 1026}\n",
      "{'name': 'rect', 'x': 33, 'y': 473, 'width': 1009, 'height': 1021}\n",
      "{'name': 'rect', 'x': 29, 'y': 477, 'width': 1030, 'height': 1026}\n",
      "{'name': 'rect', 'x': 33, 'y': 469, 'width': 1017, 'height': 1026}\n",
      "{'name': 'rect', 'x': 25, 'y': 465, 'width': 1026, 'height': 1030}\n",
      "{'name': 'rect', 'x': 38, 'y': 481, 'width': 1009, 'height': 1013}\n",
      "{'name': 'rect', 'x': 29, 'y': 469, 'width': 1026, 'height': 1026}\n",
      "{'name': 'rect', 'x': 38, 'y': 481, 'width': 1013, 'height': 1017}\n",
      "{'name': 'rect', 'x': 25, 'y': 465, 'width': 1017, 'height': 1034}\n",
      "{'name': 'rect', 'x': 33, 'y': 473, 'width': 1009, 'height': 1021}\n",
      "{'name': 'rect', 'x': 25, 'y': 473, 'width': 1017, 'height': 1026}\n",
      "{'name': 'rect', 'x': 38, 'y': 477, 'width': 1013, 'height': 1017}\n",
      "{'name': 'rect', 'x': 29, 'y': 469, 'width': 1017, 'height': 1026}\n",
      "{'name': 'rect', 'x': 29, 'y': 481, 'width': 1021, 'height': 1013}\n",
      "{'name': 'rect', 'x': 33, 'y': 486, 'width': 1017, 'height': 1017}\n",
      "{'name': 'rect', 'x': 33, 'y': 477, 'width': 1013, 'height': 1026}\n",
      "{'name': 'rect', 'x': 38, 'y': 481, 'width': 1009, 'height': 1013}\n",
      "{'name': 'rect', 'x': 42, 'y': 477, 'width': 1000, 'height': 1021}\n",
      "{'name': 'rect', 'x': 38, 'y': 477, 'width': 1005, 'height': 1017}\n",
      "{'name': 'rect', 'x': 29, 'y': 473, 'width': 1021, 'height': 1021}\n",
      "{'name': 'rect', 'x': 33, 'y': 477, 'width': 1017, 'height': 1026}\n",
      "{'name': 'rect', 'x': 21, 'y': 473, 'width': 1038, 'height': 1030}\n",
      "{'name': 'rect', 'x': 21, 'y': 469, 'width': 1034, 'height': 1026}\n",
      "{'name': 'rect', 'x': 29, 'y': 477, 'width': 1021, 'height': 1017}\n",
      "{'name': 'rect', 'x': 29, 'y': 481, 'width': 1017, 'height': 1013}\n",
      "{'name': 'rect', 'x': 29, 'y': 440, 'width': 1013, 'height': 1047}\n",
      "{'name': 'rect', 'x': 29, 'y': 448, 'width': 1030, 'height': 1030}\n",
      "{'name': 'rect', 'x': 38, 'y': 456, 'width': 1009, 'height': 1005}\n",
      "{'name': 'rect', 'x': 29, 'y': 448, 'width': 1021, 'height': 1030}\n",
      "{'name': 'rect', 'x': 29, 'y': 460, 'width': 1030, 'height': 1000}\n",
      "{'name': 'rect', 'x': 38, 'y': 448, 'width': 1009, 'height': 1030}\n",
      "{'name': 'rect', 'x': 33, 'y': 452, 'width': 1026, 'height': 1017}\n",
      "{'name': 'rect', 'x': 33, 'y': 448, 'width': 1009, 'height': 1021}\n",
      "{'name': 'rect', 'x': 29, 'y': 440, 'width': 1021, 'height': 1042}\n",
      "{'name': 'rect', 'x': 29, 'y': 444, 'width': 1030, 'height': 1034}\n",
      "{'name': 'rect', 'x': 25, 'y': 444, 'width': 1026, 'height': 1034}\n",
      "{'name': 'rect', 'x': 33, 'y': 452, 'width': 1021, 'height': 1017}\n",
      "{'name': 'rect', 'x': 29, 'y': 448, 'width': 1017, 'height': 1026}\n",
      "{'name': 'rect', 'x': 29, 'y': 440, 'width': 1026, 'height': 1030}\n",
      "{'name': 'rect', 'x': 25, 'y': 448, 'width': 1026, 'height': 1030}\n",
      "{'name': 'rect', 'x': 29, 'y': 456, 'width': 1030, 'height': 1026}\n",
      "{'name': 'rect', 'x': 29, 'y': 431, 'width': 1021, 'height': 1047}\n",
      "{'name': 'rect', 'x': 38, 'y': 448, 'width': 1017, 'height': 1030}\n",
      "{'name': 'rect', 'x': 21, 'y': 448, 'width': 1034, 'height': 1021}\n",
      "{'name': 'rect', 'x': 29, 'y': 452, 'width': 1021, 'height': 1021}\n",
      "{'name': 'rect', 'x': 29, 'y': 452, 'width': 1021, 'height': 1017}\n"
     ]
    }
   ],
   "source": [
    "keys_list = list(data['_via_img_metadata'].keys())\n",
    "for key in keys_list:\n",
    "    print(data['_via_img_metadata'][key]['regions'][0]['shape_attributes'])"
   ]
  },
  {
   "cell_type": "code",
   "execution_count": null,
   "metadata": {},
   "outputs": [],
   "source": []
  }
 ],
 "metadata": {
  "kernelspec": {
   "display_name": "Python 3",
   "language": "python",
   "name": "python3"
  },
  "language_info": {
   "codemirror_mode": {
    "name": "ipython",
    "version": 3
   },
   "file_extension": ".py",
   "mimetype": "text/x-python",
   "name": "python",
   "nbconvert_exporter": "python",
   "pygments_lexer": "ipython3",
   "version": "3.7.4"
  }
 },
 "nbformat": 4,
 "nbformat_minor": 4
}
